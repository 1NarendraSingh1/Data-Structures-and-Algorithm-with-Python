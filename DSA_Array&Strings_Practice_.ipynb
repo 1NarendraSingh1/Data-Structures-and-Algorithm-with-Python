{
  "nbformat": 4,
  "nbformat_minor": 0,
  "metadata": {
    "colab": {
      "provenance": [],
      "authorship_tag": "ABX9TyOdjWl3WSE+4CbcUey73cWx",
      "include_colab_link": true
    },
    "kernelspec": {
      "name": "python3",
      "display_name": "Python 3"
    },
    "language_info": {
      "name": "python"
    }
  },
  "cells": [
    {
      "cell_type": "markdown",
      "metadata": {
        "id": "view-in-github",
        "colab_type": "text"
      },
      "source": [
        "<a href=\"https://colab.research.google.com/github/1NarendraSingh1/Data-Structures-and-Algorithm-with-Python/blob/main/DSA_Array%26Strings_Practice_.ipynb\" target=\"_parent\"><img src=\"https://colab.research.google.com/assets/colab-badge.svg\" alt=\"Open In Colab\"/></a>"
      ]
    },
    {
      "cell_type": "markdown",
      "source": [
        "#**Arrays**"
      ],
      "metadata": {
        "id": "w-FbDPAtg5Jw"
      }
    },
    {
      "cell_type": "code",
      "source": [
        "def twoSum(nums,target):\n",
        "    for i in range(len(nums)):\n",
        "        for j in range(i+1,len(nums)):\n",
        "            if target-nums[i]==nums[j]:\n",
        "                return i,j\n",
        "nums=[1,2,4,3,2,5]\n",
        "target=9\n",
        "twoSum(nums,target)\n",
        "print(twoSum(nums,target))"
      ],
      "metadata": {
        "colab": {
          "base_uri": "https://localhost:8080/"
        },
        "id": "co6QeyGTftRD",
        "outputId": "18afc70a-1201-46b1-f810-e5fab52a32b7"
      },
      "execution_count": null,
      "outputs": [
        {
          "output_type": "stream",
          "name": "stdout",
          "text": [
            "(2, 5)\n"
          ]
        }
      ]
    },
    {
      "cell_type": "code",
      "source": [
        "\n",
        "def maxProfit(prices):\n",
        "    profit=0\n",
        "    buy=prices[0]\n",
        "    for i in range(1,len(prices)):\n",
        "        if (prices[i]-buy)>profit:\n",
        "            profit=prices[i]-buy\n",
        "        elif buy>prices[i]:\n",
        "            buy=prices[i]\n",
        "    return profit\n",
        "\n",
        "prices=[4,5,3,6,1,8,3]\n",
        "print(maxProfit(prices))\n"
      ],
      "metadata": {
        "colab": {
          "base_uri": "https://localhost:8080/"
        },
        "id": "yRpT5POsfyJQ",
        "outputId": "5fb1f7ec-61e2-4e34-e3d4-3c9b35a891a3"
      },
      "execution_count": null,
      "outputs": [
        {
          "output_type": "stream",
          "name": "stdout",
          "text": [
            "7\n"
          ]
        }
      ]
    },
    {
      "cell_type": "code",
      "source": [
        "\n",
        "def maxSubArray(nums):\n",
        "    msum=float('-inf')\n",
        "    sum=0\n",
        "    for i in nums:\n",
        "        sum+=i\n",
        "        msum=max(sum,msum)\n",
        "        if sum<0:\n",
        "            sum=0\n",
        "    return msum\n",
        "nums=[-1,2,1,-3,4,5,-7,6,-1,3]\n",
        "print(maxSubArray(nums))"
      ],
      "metadata": {
        "colab": {
          "base_uri": "https://localhost:8080/"
        },
        "id": "zX8TIhl7f2fo",
        "outputId": "610ac4b3-e059-4a0d-edc0-479cb61dd046"
      },
      "execution_count": null,
      "outputs": [
        {
          "output_type": "stream",
          "name": "stdout",
          "text": [
            "10\n"
          ]
        }
      ]
    },
    {
      "cell_type": "code",
      "execution_count": null,
      "metadata": {
        "id": "uYyorX4LPgd8"
      },
      "outputs": [],
      "source": [
        "def maxSubArray(nums):\n",
        "    max_sum = float('-inf')  # Initialize to the smallest possible value\n",
        "    current_sum = 0\n",
        "\n",
        "    for num in nums:\n",
        "        current_sum += num\n",
        "        max_sum = max(max_sum, current_sum)  # Update max_sum\n",
        "        if current_sum < 0:\n",
        "            current_sum = 0  # Reset if sum goes negative\n",
        "\n",
        "    return max_sum"
      ]
    },
    {
      "cell_type": "code",
      "source": [
        "print(maxSubArray([-2,1,-3,4,-1,2,1,-5,4]))  # Output: 6\n",
        "print(maxSubArray([1]))  # Output: 1\n",
        "print(maxSubArray([5,4,-1,7,8]))  # Output: 23\n",
        "print(maxSubArray([-2,-1,-3,-4,-5]))  # Output: -1"
      ],
      "metadata": {
        "colab": {
          "base_uri": "https://localhost:8080/"
        },
        "id": "Vk9WRztKPiZl",
        "outputId": "a94751bf-d211-4ab7-e70a-0f2cf07d6f31"
      },
      "execution_count": null,
      "outputs": [
        {
          "output_type": "stream",
          "name": "stdout",
          "text": [
            "6\n",
            "1\n",
            "23\n",
            "-1\n"
          ]
        }
      ]
    },
    {
      "cell_type": "code",
      "source": [
        "def max(arr):\n",
        "  max=float('-inf')\n",
        "  for i in arr:\n",
        "    if max<i:\n",
        "      max=i\n",
        "  return max\n",
        "arr=[3200,23,156,2843]\n",
        "print(max(arr))"
      ],
      "metadata": {
        "colab": {
          "base_uri": "https://localhost:8080/"
        },
        "id": "ZNylalVUeYuE",
        "outputId": "bd242e02-0b73-48ed-93e2-2cef09659f78"
      },
      "execution_count": null,
      "outputs": [
        {
          "output_type": "stream",
          "name": "stdout",
          "text": [
            "3200\n"
          ]
        }
      ]
    },
    {
      "cell_type": "code",
      "source": [
        "def get_min_max(arr):\n",
        "  minm=float('inf')\n",
        "  maxm=float('-inf')\n",
        "  for i in arr:\n",
        "    if minm>i:\n",
        "      minm=i\n",
        "    elif maxm<i:\n",
        "      maxm=i\n",
        "  return minm,maxm\n",
        "arr=[42011,123,1045,1205,254,40763,6537,3161]\n",
        "print(get_min_max(arr))"
      ],
      "metadata": {
        "colab": {
          "base_uri": "https://localhost:8080/"
        },
        "id": "XcEZtyBng8Y7",
        "outputId": "bd198ba4-a42b-4ee7-c7f8-a55d285c1f8e"
      },
      "execution_count": null,
      "outputs": [
        {
          "output_type": "stream",
          "name": "stdout",
          "text": [
            "(123, 40763)\n"
          ]
        }
      ]
    },
    {
      "cell_type": "code",
      "source": [
        "def get_min_max(arr):\n",
        "  minm=float('inf')\n",
        "  maxm=float('-inf')\n",
        "  for i in arr:\n",
        "    if minm>i:\n",
        "      minm=i\n",
        "  for i in arr:\n",
        "    if maxm<i:\n",
        "      maxm=i\n",
        "  return minm,maxm\n",
        "arr=[42011,123,1045,1205,254,40763,6537,3161]\n",
        "print(get_min_max(arr))"
      ],
      "metadata": {
        "colab": {
          "base_uri": "https://localhost:8080/"
        },
        "id": "y_HB1M3xw5SI",
        "outputId": "3a235b06-c9ae-4f5d-d283-8c4c379290c7"
      },
      "execution_count": null,
      "outputs": [
        {
          "output_type": "stream",
          "name": "stdout",
          "text": [
            "(123, 42011)\n"
          ]
        }
      ]
    },
    {
      "cell_type": "code",
      "source": [
        "def get_min_max(arr):\n",
        "    minm = float('inf')\n",
        "    maxm = float('-inf')\n",
        "\n",
        "    for i in arr:\n",
        "        if minm > i:  # Update minimum\n",
        "            minm = i\n",
        "        if maxm < i:  # Update maximum (should be an independent condition)\n",
        "            maxm = i\n",
        "\n",
        "    return minm, maxm\n",
        "\n",
        "arr = [42011, 123, 1045, 1205, 254, 40763, 6537, 3161]\n",
        "print(get_min_max(arr))  # Expected Output: (123, 42011)\n"
      ],
      "metadata": {
        "colab": {
          "base_uri": "https://localhost:8080/"
        },
        "id": "I2kdLGH0xqhg",
        "outputId": "9ddd847f-9985-422d-ee6f-d933d71f2f72"
      },
      "execution_count": null,
      "outputs": [
        {
          "output_type": "stream",
          "name": "stdout",
          "text": [
            "(123, 42011)\n"
          ]
        }
      ]
    },
    {
      "cell_type": "code",
      "source": [
        "for i in range(0,5):\n",
        "  print(i)"
      ],
      "metadata": {
        "colab": {
          "base_uri": "https://localhost:8080/"
        },
        "id": "O21gAtwyrP99",
        "outputId": "0a31c602-f55e-40bd-8994-91c7f9b1528d"
      },
      "execution_count": null,
      "outputs": [
        {
          "output_type": "stream",
          "name": "stdout",
          "text": [
            "0\n",
            "1\n",
            "2\n",
            "3\n",
            "4\n"
          ]
        }
      ]
    },
    {
      "cell_type": "code",
      "source": [
        "3//2"
      ],
      "metadata": {
        "colab": {
          "base_uri": "https://localhost:8080/"
        },
        "id": "9wJ8EHlv6CKt",
        "outputId": "0e5ad04e-ace4-4bb3-e8be-30771c73ba9c"
      },
      "execution_count": null,
      "outputs": [
        {
          "output_type": "execute_result",
          "data": {
            "text/plain": [
              "1"
            ]
          },
          "metadata": {},
          "execution_count": 19
        }
      ]
    },
    {
      "cell_type": "code",
      "source": [
        "def transposeMatrix(mat, N):\n",
        "    for i in range(N):\n",
        "        for j in range(i + 1, N):  # Only swap elements above the diagonal\n",
        "            mat[i][j], mat[j][i] = mat[j][i], mat[i][j]  # Swap elements\n",
        "\n",
        "# Example Usage\n",
        "N1 = 4\n",
        "mat1 = [[1, 1, 1, 1],\n",
        "        [2, 2, 2, 2],\n",
        "        [3, 3, 3, 3],\n",
        "        [4, 4, 4, 4]]\n",
        "\n",
        "transposeMatrix(mat1, N1)\n",
        "print(mat1)  # Output: [[1, 2, 3, 4], [1, 2, 3, 4], [1, 2, 3, 4], [1, 2, 3, 4]]\n",
        "\n",
        "N2 = 2\n",
        "mat2 = [[1, 2],\n",
        "        [9, -2]]\n",
        "\n",
        "transposeMatrix(mat2, N2)\n",
        "print(mat2)  # Output: [[1, 9], [2, -2]]\n"
      ],
      "metadata": {
        "id": "l6nIB_E4w0rm"
      },
      "execution_count": null,
      "outputs": []
    },
    {
      "cell_type": "code",
      "source": [
        "def rotateby90(mat):\n",
        "        #transpose the matrix\n",
        "    for i in range(len(mat)):\n",
        "        for j in range(i,len(mat)):\n",
        "            mat[i][j],mat[j][i]=mat[j][i],mat[i][j]\n",
        "    return mat\n",
        "\n",
        "mat = [[1, 1, 1, 1],\n",
        "        [2, 2, 2, 2],\n",
        "        [3, 3, 3, 3],\n",
        "        [4, 4, 4, 4]]\n",
        "print(rotateby90(mat))"
      ],
      "metadata": {
        "colab": {
          "base_uri": "https://localhost:8080/"
        },
        "id": "-tVk5hwOQBIQ",
        "outputId": "48e6934b-a224-4a55-ef5f-0d239694df16"
      },
      "execution_count": null,
      "outputs": [
        {
          "output_type": "stream",
          "name": "stdout",
          "text": [
            "[[1, 2, 3, 4], [1, 2, 3, 4], [1, 2, 3, 4], [1, 2, 3, 4]]\n"
          ]
        }
      ]
    },
    {
      "cell_type": "code",
      "source": [
        "#Anticlockwise rotation\n",
        "def rotateby90(mat):\n",
        "  n=len(mat)\n",
        "  for j in range(n):\n",
        "    for i in range(n//2):\n",
        "        mat[i][j],mat[len(mat)-1-i][j]=mat[len(mat)-1-i][j],mat[i][j]\n",
        "  return mat\n",
        "\n",
        "mat = [[1, 2, 3],\n",
        "       [4, 5, 6],\n",
        "       [7, 8, 9]]\n",
        "print(rotateby90(mat))"
      ],
      "metadata": {
        "colab": {
          "base_uri": "https://localhost:8080/"
        },
        "id": "6BQ8DxjWRsvl",
        "outputId": "63975b9b-f0d3-408a-946c-afe983cbfb30"
      },
      "execution_count": null,
      "outputs": [
        {
          "output_type": "stream",
          "name": "stdout",
          "text": [
            "[[7, 8, 9], [4, 5, 6], [1, 2, 3]]\n"
          ]
        }
      ]
    },
    {
      "cell_type": "code",
      "source": [
        "#Clockwise rotation\n",
        "def rotateby90(mat):\n",
        "  n=len(mat)\n",
        "  for i in range(n):\n",
        "    for j in range(n//2):\n",
        "        mat[i][j],mat[i][len(mat)-1-j]=mat[i][len(mat)-1-j],mat[i][j]\n",
        "  return mat\n",
        "\n",
        "mat = [[1, 2, 3],\n",
        "       [4, 5, 6],\n",
        "       [7, 8, 9]]\n",
        "print(rotateby90(mat))"
      ],
      "metadata": {
        "colab": {
          "base_uri": "https://localhost:8080/"
        },
        "id": "DNeDgNPuTc0v",
        "outputId": "be63e909-25ff-4ca2-cd2d-0f972a0da061"
      },
      "execution_count": null,
      "outputs": [
        {
          "output_type": "stream",
          "name": "stdout",
          "text": [
            "[[3, 2, 1], [6, 5, 4], [9, 8, 7]]\n"
          ]
        }
      ]
    },
    {
      "cell_type": "code",
      "source": [
        "def convertToWave(arr):\n",
        "    n = len(arr)\n",
        "    for i in range(0, n - 1, 2):  # Step of 2\n",
        "        arr[i], arr[i + 1] = arr[i + 1], arr[i]  # Swap adjacent elements\n",
        "\n",
        "# Example Usage\n",
        "arr = [1, 2, 3, 4, 5]\n",
        "convertToWave(arr)\n",
        "print(arr)  # Output: [2, 1, 4, 3, 5]\n"
      ],
      "metadata": {
        "colab": {
          "base_uri": "https://localhost:8080/"
        },
        "id": "mH9lqMfmxSsX",
        "outputId": "6675fbf4-602d-4b3a-dfd6-440d79281631"
      },
      "execution_count": null,
      "outputs": [
        {
          "output_type": "stream",
          "name": "stdout",
          "text": [
            "[2, 1, 4, 3, 5]\n"
          ]
        }
      ]
    },
    {
      "cell_type": "markdown",
      "source": [
        "You are given an integer array height of length n. There are n vertical lines drawn such that the two endpoints of the ith line are (i, 0) and (i, height[i]).\n",
        "\n",
        "Find two lines that together with the x-axis form a container, such that the container contains the most water.\n",
        "\n",
        "Return the maximum amount of water a container can store.\n",
        "\n",
        "Notice that you may not slant the container.\n",
        "\n",
        "\n",
        "\n",
        "Example 1:\n",
        "\n",
        "\n",
        "Input: height = [1,8,6,2,5,4,8,3,7]\n",
        "Output: 49\n",
        "Explanation: The above vertical lines are represented by array [1,8,6,2,5,4,8,3,7]. In this case, the max area of water (blue section) the container can contain is 49."
      ],
      "metadata": {
        "id": "hnSA-Ti6DqlV"
      }
    },
    {
      "cell_type": "code",
      "source": [
        "\n",
        "def maxArea(height):\n",
        "    l,r=0,len(height)-1 #two pointers method\n",
        "    maxw=0\n",
        "    while l<r:\n",
        "        # area of the tank to store the water\n",
        "        area=(r-l)*min(height[r],height[l])\n",
        "        maxw=max(area,maxw)\n",
        "        if height[r]>height[l]:\n",
        "            l+=1\n",
        "        else:\n",
        "            r-=1\n",
        "    return maxw\n",
        "height = [1,8,6,2,5,4,8,3,7]\n",
        "print(maxArea(height))"
      ],
      "metadata": {
        "id": "v82-jIUzjI0b",
        "colab": {
          "base_uri": "https://localhost:8080/"
        },
        "outputId": "4d582d14-1afd-4b9e-96f7-9e668a934d27"
      },
      "execution_count": null,
      "outputs": [
        {
          "output_type": "stream",
          "name": "stdout",
          "text": [
            "49\n"
          ]
        }
      ]
    },
    {
      "cell_type": "code",
      "source": [
        "def rotate(nums, k):\n",
        "    n = len(nums)\n",
        "    k %= n  # Handle cases where k > n\n",
        "\n",
        "    # Reverse function\n",
        "    def reverse(start, end):\n",
        "        while start < end:\n",
        "            nums[start], nums[end] = nums[end], nums[start]\n",
        "            start += 1\n",
        "            end -= 1\n",
        "\n",
        "    # Step 1: Reverse the entire array\n",
        "    reverse(0, n - 1)\n",
        "    # Step 2: Reverse the first k elements\n",
        "    reverse(0, k - 1)\n",
        "    # Step 3: Reverse the remaining n-k elements\n",
        "    reverse(k, n - 1)\n",
        "\n",
        "# Example test cases\n",
        "nums1 = [1,2,3,4,5,6,7]\n",
        "rotate(nums1, 3)\n",
        "print(nums1)"
      ],
      "metadata": {
        "colab": {
          "base_uri": "https://localhost:8080/"
        },
        "id": "k_skA_KnazoQ",
        "outputId": "a145e0b7-3c1d-45c8-ad57-15038c35f01c"
      },
      "execution_count": null,
      "outputs": [
        {
          "output_type": "stream",
          "name": "stdout",
          "text": [
            "[5, 6, 7, 1, 2, 3, 4]\n"
          ]
        }
      ]
    },
    {
      "cell_type": "code",
      "source": [
        "#Next Larger number\n",
        "def nextLargerElement(arr):\n",
        "    n = len(arr)\n",
        "    result = [-1] * n  # Initialize result array with -1\n",
        "    stack = []  # Stack to store elements\n",
        "\n",
        "    for i in range(n - 1, -1, -1):  # Traverse from right to left\n",
        "        while stack and stack[-1] <= arr[i]:\n",
        "            stack.pop()  # Remove smaller elements\n",
        "\n",
        "        if stack:  # If stack is not empty, top is the NGE\n",
        "            result[i] = stack[-1]\n",
        "\n",
        "        stack.append(arr[i])  # Push current element onto stack\n",
        "\n",
        "    return result\n",
        "arr1= [1, 3, 2, 4]\n",
        "arr2= [6, 8, 0, 1, 3]\n",
        "print(nextLargerElement(arr1))\n",
        "print(nextLargerElement(arr2))"
      ],
      "metadata": {
        "colab": {
          "base_uri": "https://localhost:8080/"
        },
        "id": "Q3a4YWnHvYRp",
        "outputId": "d1948583-17f1-48bd-bfdd-8161b6691c5b"
      },
      "execution_count": null,
      "outputs": [
        {
          "output_type": "stream",
          "name": "stdout",
          "text": [
            "[3, 4, 4, -1]\n",
            "[8, -1, 1, 3, -1]\n"
          ]
        }
      ]
    },
    {
      "cell_type": "code",
      "source": [
        "def nle(arr):\n",
        "  n = len(arr)\n",
        "  result = [-1] * n\n",
        "  for i in range (n):\n",
        "    for j in range(i+1,n):\n",
        "      if arr[j]>arr[i]:\n",
        "        result[i]=arr[j]\n",
        "        break\n",
        "  return result\n",
        "print(nle([1,3,2,4]))\n",
        "print(nle([6,8,0,1,3]))"
      ],
      "metadata": {
        "colab": {
          "base_uri": "https://localhost:8080/"
        },
        "id": "iTcv1ceKvyse",
        "outputId": "b0a23347-30ad-46eb-88ef-4273ab02e3d9"
      },
      "execution_count": null,
      "outputs": [
        {
          "output_type": "stream",
          "name": "stdout",
          "text": [
            "[3, 4, 4, -1]\n",
            "[8, -1, 1, 3, -1]\n"
          ]
        }
      ]
    },
    {
      "cell_type": "code",
      "source": [
        "#max subarray\n",
        "def maxOfSubarrays(arr, k):\n",
        "    n=len(arr)\n",
        "    result=[]\n",
        "    for i in range(n-k+1):\n",
        "      max=arr[0]\n",
        "      for j in range(1,k):\n",
        "          if arr[j+i]>max:\n",
        "              max=arr[i+j]\n",
        "      result.append(max)\n",
        "    return result\n",
        "arr=[1, 2, 3, 1, 4, 5, 2, 3, 6]\n",
        "k = 3\n",
        "print(maxOfSubarrays(arr,k))"
      ],
      "metadata": {
        "colab": {
          "base_uri": "https://localhost:8080/"
        },
        "id": "_AjXhThswLg7",
        "outputId": "c27153e5-fa78-47d7-ca56-935eb0b92163"
      },
      "execution_count": null,
      "outputs": [
        {
          "output_type": "stream",
          "name": "stdout",
          "text": [
            "[3, 3, 4, 5, 5, 3, 6]\n"
          ]
        }
      ]
    },
    {
      "cell_type": "code",
      "source": [
        "#Missing number in array\n",
        "def missingNumber(arr):\n",
        "  n=len(arr)+1\n",
        "  s=n*(n+1)//2\n",
        "  mins=s-sum(arr)\n",
        "  return mins\n",
        "      # code here\n",
        "arr1 = [1, 2, 3, 5]\n",
        "arr2= [8, 2, 4, 5, 3, 7, 1]\n",
        "print(missingNumber(arr1))\n",
        "print(missingNumber(arr2))"
      ],
      "metadata": {
        "colab": {
          "base_uri": "https://localhost:8080/"
        },
        "id": "aMeBeEd5Phd1",
        "outputId": "9b2b0275-c4d6-4b56-995d-34c096f3e314"
      },
      "execution_count": null,
      "outputs": [
        {
          "output_type": "stream",
          "name": "stdout",
          "text": [
            "4\n",
            "6\n"
          ]
        }
      ]
    },
    {
      "cell_type": "code",
      "source": [
        "def findMaximum(arr):\n",
        "\treturn max(arr)\n",
        "  # l=0\n",
        "  # h=len(arr)-1\n",
        "  # while l<h:\n",
        "  #     m=(l+h)//2\n",
        "  #     if arr[m]>arr[m+1]:\n",
        "  #         h=m\n",
        "  #     else:\n",
        "  #         l=m+1\n",
        "  # return arr[l]\n",
        "arr1= [1, 2, 4, 5, 7, 8, 3]\n",
        "arr2= [10, 20, 30, 40, 50]\n",
        "arr3= [120, 100, 80, 20, 0]\n",
        "print(findMaximum(arr1))\n",
        "print(findMaximum(arr2))\n",
        "print(findMaximum(arr3))"
      ],
      "metadata": {
        "colab": {
          "base_uri": "https://localhost:8080/"
        },
        "id": "nGk_4TJ_PrXC",
        "outputId": "67e8fbd7-a273-48cb-e14e-6c2ea564cb06"
      },
      "execution_count": null,
      "outputs": [
        {
          "output_type": "stream",
          "name": "stdout",
          "text": [
            "8\n",
            "50\n",
            "120\n"
          ]
        }
      ]
    },
    {
      "cell_type": "markdown",
      "source": [
        "#**Strings**"
      ],
      "metadata": {
        "id": "97jK3TPYhA4B"
      }
    },
    {
      "cell_type": "code",
      "source": [
        "def reverseString(s):\n",
        "    start=0\n",
        "    end=len(s)-1\n",
        "    while start<end:\n",
        "        s[start],s[end]=s[end],s[start]\n",
        "        start+=1\n",
        "        end-=1\n",
        "        \"\"\"\n",
        "        Do not return anything, modify s in-place instead.\n",
        "        \"\"\"\n",
        "s = [\"H\",\"a\",\"n\",\"n\",\"a\",\"h\"]\n",
        "reverseString(s)\n",
        "print(s)"
      ],
      "metadata": {
        "colab": {
          "base_uri": "https://localhost:8080/"
        },
        "id": "k9htk8MXfrsq",
        "outputId": "6ee6e8c8-30c0-494d-f0ba-19badbe54116"
      },
      "execution_count": null,
      "outputs": [
        {
          "output_type": "stream",
          "name": "stdout",
          "text": [
            "['h', 'a', 'n', 'n', 'a', 'H']\n"
          ]
        }
      ]
    },
    {
      "cell_type": "code",
      "source": [],
      "metadata": {
        "id": "6B5dIhzojKDt"
      },
      "execution_count": null,
      "outputs": []
    }
  ]
}